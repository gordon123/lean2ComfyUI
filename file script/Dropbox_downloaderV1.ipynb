{
 "cells": [
  {
   "cell_type": "code",
   "execution_count": 3,
   "id": "99aed870-b434-4e4f-84b6-5e04d97c8132",
   "metadata": {},
   "outputs": [
    {
     "name": "stdin",
     "output_type": "stream",
     "text": [
      "📥 Enter the Dropbox download link:  https://www.dropbox.com/scl/fi/99kho3xvnj63x62muv7m2/flux-lora-Tai-iimate24-rapid.safetensors?rlkey=hkj8gc24x08nq189crgni3wpo&st=16t38plc&dl=0\n",
      "💾 Enter the file name (or leave blank to auto-detect):  tai_flux_rapid.safetensors\n",
      "📂 Enter the folder to save the file (e.g., /workspace/ComfyUI/models/loras):  /workspace/ComfyUI/models/loras\n"
     ]
    },
    {
     "name": "stdout",
     "output_type": "stream",
     "text": [
      "📥 Downloading tai_flux_rapid.safetensors to /workspace/ComfyUI/models/loras... Please wait.\n",
      "⬇️ Download Progress: 10%\n",
      "⬇️ Download Progress: 20%\n",
      "⬇️ Download Progress: 30%\n",
      "⬇️ Download Progress: 40%\n",
      "⬇️ Download Progress: 50%\n",
      "⬇️ Download Progress: 60%\n",
      "⬇️ Download Progress: 70%\n",
      "⬇️ Download Progress: 80%\n",
      "⬇️ Download Progress: 90%\n",
      "⬇️ Download Progress: 100%\n",
      "\n",
      "✅ Download complete: /workspace/ComfyUI/models/loras/tai_flux_rapid.safetensors\n"
     ]
    }
   ],
   "source": [
    "\"\"\"\n",
    "📌 Download file from Dropbox - Lazy script for dummies!\n",
    "🚀 Version: 1.0.0 - test\n",
    "👤 Created by: iimate\n",
    "📅 Date: 2025-02-09\n",
    "🔗 GitHub: https://github.com/gordon123/lean2ComfyUI/tree/main/file%20script\n",
    "\"\"\"\n",
    "\n",
    "import os\n",
    "import requests\n",
    "import sys\n",
    "\n",
    "# 1️⃣ Get User Inputs\n",
    "download_url = input(\"📥 Enter the Dropbox download link: \").strip()\n",
    "\n",
    "# Fix Dropbox link (dl=0 → dl=1)\n",
    "if \"dropbox.com\" in download_url and \"dl=0\" in download_url:\n",
    "    download_url = download_url.replace(\"dl=0\", \"dl=1\")\n",
    "\n",
    "file_name = input(\"💾 Enter the file name (or leave blank to auto-detect): \").strip()\n",
    "if not file_name:\n",
    "    file_name = download_url.split(\"/\")[-1].split(\"?\")[0]  # Extract file name\n",
    "\n",
    "save_folder = input(\"📂 Enter the folder to save the file (e.g., /workspace/ComfyUI/models/loras): \").strip()\n",
    "os.makedirs(save_folder, exist_ok=True)  # Ensure directory exists\n",
    "\n",
    "# Full save path\n",
    "save_path = os.path.join(save_folder, file_name)\n",
    "\n",
    "# 2️⃣ Check if File Exists\n",
    "if os.path.exists(save_path):\n",
    "    print(f\"✅ File already exists at {save_path}. Skipping download.\")\n",
    "    sys.exit()\n",
    "\n",
    "# 3️⃣ Start Download\n",
    "print(f\"📥 Downloading {file_name} to {save_folder}... Please wait.\")\n",
    "\n",
    "response = requests.get(download_url, stream=True)\n",
    "if response.status_code == 200:\n",
    "    total_size = int(response.headers.get(\"content-length\", 0))\n",
    "    downloaded = 0\n",
    "    last_percent = 0  # Track last printed percentage\n",
    "\n",
    "    with open(save_path, \"wb\") as file:\n",
    "        for chunk in response.iter_content(chunk_size=8192):\n",
    "            if chunk:\n",
    "                file.write(chunk)\n",
    "                downloaded += len(chunk)\n",
    "                \n",
    "                # Calculate Progress %\n",
    "                percent = int((downloaded / total_size) * 100) if total_size else 0\n",
    "                \n",
    "                # Print only when it reaches the next 10% interval\n",
    "                if percent >= last_percent + 10:\n",
    "                    print(f\"⬇️ Download Progress: {percent}%\")\n",
    "                    sys.stdout.flush()  # Force print update\n",
    "                    last_percent = percent\n",
    "\n",
    "    print(f\"\\n✅ Download complete: {save_path}\")\n",
    "else:\n",
    "    print(f\"❌ Download failed. Status Code: {response.status_code}\")\n"
   ]
  },
  {
   "cell_type": "markdown",
   "id": "ec51b16c-c45d-46da-98a0-5fc7d1ed436c",
   "metadata": {},
   "source": [
    "## script เอาไว้โหลดไฟล์จาก Dropbox\n",
    "\n",
    "File Path แนะนำ filename.safetensor\n",
    "\n",
    "/workspace/ComfyUI/models/checkpoints\n",
    "\n",
    "/workspace/ComfyUI/models/clip\n",
    "\n",
    "/workspace/ComfyUI/models/clip_vision\n",
    "\n",
    "/workspace/ComfyUI/models/unet\n",
    "\n",
    "/workspace/ComfyUI/models/vae\n",
    "\n",
    "/workspace/ComfyUI/models/upscale_models\n",
    "\n",
    "/workspace/ComfyUI/models/loras\n",
    "\n",
    "/workspace/ComfyUI/models/LLM\n",
    "\n",
    "/workspace/ComfyUI/models/controlnet\n",
    "\n",
    "/workspace/ComfyUI/models/embeddings\n",
    "\n"
   ]
  },
  {
   "cell_type": "markdown",
   "id": "a576c7b0-3931-41c3-8c9d-73051909e95b",
   "metadata": {},
   "source": [
    "# Flux model download\n",
    "วิธีใช้ script นี้ ตามดูได้จาก Ep4. https://youtu.be/qcH7g1FnMHg?si=Q0RQGH1Q9aY2LyoB <br>\n",
    "\n",
    "### Flux_VAE.safetensors\n",
    "https://www.dropbox.com/scl/fi/bjl8pl5kl21cw8k5peylr/ae.safetensors?rlkey=zube4tkf2q2ca85j73ibms9m6&st=oezq75am&dl=0\n",
    "\n",
    "เอาไปไว้ใน /workspace/ComfyUI/models/vae\n",
    "\n",
    "\n",
    "https://www.dropbox.com/scl/fi/rcjfydhkmb5blsc1qbw1b/flux-lora-Tai-iimate24-5740s.safetensors?rlkey=wkikqi3wlo065rglogstzj43d&st=lih72net&dl=0"
   ]
  }
 ],
 "metadata": {
  "kernelspec": {
   "display_name": "Python 3 (ipykernel)",
   "language": "python",
   "name": "python3"
  },
  "language_info": {
   "codemirror_mode": {
    "name": "ipython",
    "version": 3
   },
   "file_extension": ".py",
   "mimetype": "text/x-python",
   "name": "python",
   "nbconvert_exporter": "python",
   "pygments_lexer": "ipython3",
   "version": "3.11.11"
  }
 },
 "nbformat": 4,
 "nbformat_minor": 5
}

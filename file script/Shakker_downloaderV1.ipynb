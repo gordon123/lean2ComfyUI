{
 "cells": [
  {
   "cell_type": "code",
   "execution_count": null,
   "id": "bcd608c4-0148-4c2d-91b5-0963cd386d3c",
   "metadata": {},
   "outputs": [],
   "source": [
    "\"\"\"\n",
    "📌 Download file from Dropbox - Lazy script for dummies!\n",
    "🚀 Version: 1.0.0 - test\n",
    "👤 Created by: iimate\n",
    "📅 Date: 2025-02-09\n",
    "🔗 GitHub: https://github.com/gordon123/lean2ComfyUI/tree/main/file%20script\n",
    "\"\"\"\n",
    "\n",
    "import os\n",
    "import requests\n",
    "import sys\n",
    "\n",
    "# 1️⃣ Get User Inputs\n",
    "download_url = input(\"📥 Enter the Dropbox download link: \").strip()\n",
    "\n",
    "# Fix Dropbox link (dl=0 → dl=1)\n",
    "if \"dropbox.com\" in download_url and \"dl=0\" in download_url:\n",
    "    download_url = download_url.replace(\"dl=0\", \"dl=1\")\n",
    "\n",
    "file_name = input(\"💾 Enter the file name (or leave blank to auto-detect): \").strip()\n",
    "if not file_name:\n",
    "    file_name = download_url.split(\"/\")[-1].split(\"?\")[0]  # Extract file name\n",
    "\n",
    "save_folder = input(\"📂 Enter the folder to save the file (e.g., /workspace/ComfyUI/models/loras): \").strip()\n",
    "os.makedirs(save_folder, exist_ok=True)  # Ensure directory exists\n",
    "\n",
    "# Full save path\n",
    "save_path = os.path.join(save_folder, file_name)\n",
    "\n",
    "# 2️⃣ Check if File Exists\n",
    "if os.path.exists(save_path):\n",
    "    print(f\"✅ File already exists at {save_path}. Skipping download.\")\n",
    "    sys.exit()\n",
    "\n",
    "# 3️⃣ Start Download\n",
    "print(f\"📥 Downloading {file_name} to {save_folder}... Please wait.\")\n",
    "\n",
    "response = requests.get(download_url, stream=True)\n",
    "if response.status_code == 200:\n",
    "    total_size = int(response.headers.get(\"content-length\", 0))\n",
    "    downloaded = 0\n",
    "    last_percent = 0  # Track last printed percentage\n",
    "\n",
    "    with open(save_path, \"wb\") as file:\n",
    "        for chunk in response.iter_content(chunk_size=8192):\n",
    "            if chunk:\n",
    "                file.write(chunk)\n",
    "                downloaded += len(chunk)\n",
    "                \n",
    "                # Calculate Progress %\n",
    "                percent = int((downloaded / total_size) * 100) if total_size else 0\n",
    "                \n",
    "                # Print only when it reaches the next 10% interval\n",
    "                if percent >= last_percent + 10:\n",
    "                    print(f\"⬇️ Download Progress: {percent}%\")\n",
    "                    sys.stdout.flush()  # Force print update\n",
    "                    last_percent = percent\n",
    "\n",
    "    print(f\"\\n✅ Download complete: {save_path}\")\n",
    "else:\n",
    "    print(f\"❌ Download failed. Status Code: {response.status_code}\")"
   ]
  },
  {
   "cell_type": "markdown",
   "id": "98f71203-fbce-4876-b337-ca535a9b50d2",
   "metadata": {},
   "source": [
    "# download จาก civitai\n",
    "\n",
    "วิธีใช้ script นี้ ตามดูได้จาก Ep4. https://youtu.be/qcH7g1FnMHg?si=Q0RQGH1Q9aY2LyoB <br>\n",
    "\n",
    "\n",
    "\n",
    "\n"
   ]
  }
 ],
 "metadata": {
  "kernelspec": {
   "display_name": "",
   "name": ""
  },
  "language_info": {
   "name": ""
  }
 },
 "nbformat": 4,
 "nbformat_minor": 5
}
